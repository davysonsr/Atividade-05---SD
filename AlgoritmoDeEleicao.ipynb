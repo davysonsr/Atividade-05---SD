{
 "cells": [
  {
   "cell_type": "code",
   "execution_count": 1,
   "id": "76bef2ab-29b9-4773-9425-a9ac623be313",
   "metadata": {},
   "outputs": [
    {
     "name": "stdout",
     "output_type": "stream",
     "text": [
      "Node 1 (original coordinator) has failed.\n",
      "Node 3 starting election...\n",
      "Node 5 elected as new coordinator with uptime 71.0 seconds.\n"
     ]
    }
   ],
   "source": [
    "import time\n",
    "import random\n",
    "import threading\n",
    "\n",
    "class Node:\n",
    "    def __init__(self, id):\n",
    "        self.id = id\n",
    "        self.start_time = time.time()\n",
    "        self.coordinator = False\n",
    "\n",
    "    def get_uptime(self):\n",
    "        return time.time() - self.start_time\n",
    "\n",
    "    def election(self, nodes):\n",
    "        print(f\"Node {self.id} starting election...\")\n",
    "        # Sort nodes by uptime, then by ID\n",
    "        nodes.sort(key=lambda node: (-node.get_uptime(), -node.id))\n",
    "        new_coordinator = nodes[0]\n",
    "        new_coordinator.coordinator = True\n",
    "        print(f\"Node {new_coordinator.id} elected as new coordinator with uptime {new_coordinator.get_uptime()} seconds.\")\n",
    "\n",
    "def simulate_network():\n",
    "    nodes = [Node(i) for i in range(1, 6)]\n",
    "    for node in nodes:\n",
    "        node.start_time -= random.randint(0, 100)\n",
    "\n",
    "    failed_coordinator = nodes[0]\n",
    "    print(f\"Node {failed_coordinator.id} (original coordinator) has failed.\")\n",
    "    nodes.remove(failed_coordinator)\n",
    "\n",
    "    # Random node initiates an election\n",
    "    initiator = random.choice(nodes)\n",
    "    initiator.election(nodes)\n",
    "\n",
    "# Run the simulation\n",
    "simulate_network()\n"
   ]
  },
  {
   "cell_type": "code",
   "execution_count": null,
   "id": "c1aa1a21-b222-4f05-ab9a-48668cfea1f7",
   "metadata": {},
   "outputs": [],
   "source": []
  }
 ],
 "metadata": {
  "kernelspec": {
   "display_name": "Python 3 (ipykernel)",
   "language": "python",
   "name": "python3"
  },
  "language_info": {
   "codemirror_mode": {
    "name": "ipython",
    "version": 3
   },
   "file_extension": ".py",
   "mimetype": "text/x-python",
   "name": "python",
   "nbconvert_exporter": "python",
   "pygments_lexer": "ipython3",
   "version": "3.11.7"
  }
 },
 "nbformat": 4,
 "nbformat_minor": 5
}
